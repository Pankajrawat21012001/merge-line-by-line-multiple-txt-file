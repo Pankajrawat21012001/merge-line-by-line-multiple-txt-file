{
 "cells": [
  {
   "cell_type": "code",
   "execution_count": 3,
   "metadata": {},
   "outputs": [],
   "source": [
    "f=open(\"Only name.txt\",'r')\n",
    "name=f.readlines()\n",
    "g=open(\"NSE Name.txt\",\"r\")\n",
    "nse=g.readlines()\n",
    "s=open(\"BSE Name.txt\",\"r\")\n",
    "bse=s.readlines()\n",
    "h=open(\"NAME AND NSE AND BSE.txt\",'w')"
   ]
  },
  {
   "cell_type": "code",
   "execution_count": 4,
   "metadata": {},
   "outputs": [],
   "source": [
    "for i in range(sum(1 for i in open(\"NSE Name.txt\"))):\n",
    "    h.write((name[i])[:-1]+\"        \"+(nse[i])[:-1]+\"        \"+bse[i])"
   ]
  },
  {
   "cell_type": "code",
   "execution_count": null,
   "metadata": {},
   "outputs": [],
   "source": []
  }
 ],
 "metadata": {
  "kernelspec": {
   "display_name": "Python 3",
   "language": "python",
   "name": "python3"
  },
  "language_info": {
   "codemirror_mode": {
    "name": "ipython",
    "version": 3
   },
   "file_extension": ".py",
   "mimetype": "text/x-python",
   "name": "python",
   "nbconvert_exporter": "python",
   "pygments_lexer": "ipython3",
   "version": "3.8.5"
  }
 },
 "nbformat": 4,
 "nbformat_minor": 4
}
